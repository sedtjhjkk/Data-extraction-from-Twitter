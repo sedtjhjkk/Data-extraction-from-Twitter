{
 "cells": [
  {
   "cell_type": "code",
   "execution_count": 25,
   "id": "b86ca4c9",
   "metadata": {},
   "outputs": [],
   "source": [
    "query = \"adam cole\""
   ]
  },
  {
   "cell_type": "code",
   "execution_count": 17,
   "id": "cb3f770c",
   "metadata": {},
   "outputs": [],
   "source": [
    "import numpy as np\n",
    "import pandas as pd\n",
    "import snscrape.modules.twitter as sntwitter"
   ]
  },
  {
   "cell_type": "code",
   "execution_count": null,
   "id": "39d1350a",
   "metadata": {},
   "outputs": [],
   "source": []
  },
  {
   "cell_type": "code",
   "execution_count": 26,
   "id": "826f3ae3",
   "metadata": {},
   "outputs": [
    {
     "name": "stdout",
     "output_type": "stream",
     "text": [
      "{'url': 'https://twitter.com/Mr_MooreOVO/status/1641292007858487298', 'date': datetime.datetime(2023, 3, 30, 4, 11, 23, tzinfo=datetime.timezone.utc), 'rawContent': '@NotoriousVIC007 It’ll Be A Decent Feud But I’ll Admit There’s Better Feuds For Adam Cole', 'renderedContent': '@NotoriousVIC007 It’ll Be A Decent Feud But I’ll Admit There’s Better Feuds For Adam Cole', 'id': 1641292007858487298, 'user': User(username='Mr_MooreOVO', id=866714675412688898, displayname='Mr_MooreOVO ⁶𓅓🦉', rawDescription='Young Money💰 OVO🦉 Laker Gang🏀 Yowie Wowie HE’S GOT THE WHOLE WORLD IN HIS HANDS🤲🏾🌎 Giants Gang💙♥️ R.I.P Mamba I Love You KB💜💛', renderedDescription='Young Money💰 OVO🦉 Laker Gang🏀 Yowie Wowie HE’S GOT THE WHOLE WORLD IN HIS HANDS🤲🏾🌎 Giants Gang💙♥️ R.I.P Mamba I Love You KB💜💛', descriptionLinks=None, verified=False, created=datetime.datetime(2017, 5, 22, 17, 57, 36, tzinfo=datetime.timezone.utc), followersCount=720, friendsCount=3432, statusesCount=14274, favouritesCount=266789, listedCount=3, mediaCount=4405, location='Los Angeles Laker', protected=False, link=None, profileImageUrl='https://pbs.twimg.com/profile_images/1433232380752539648/rWnW7CZD_normal.jpg', profileBannerUrl='https://pbs.twimg.com/profile_banners/866714675412688898/1621115493', label=None), 'replyCount': 0, 'retweetCount': 0, 'likeCount': 0, 'quoteCount': 0, 'conversationId': 1641268651322900481, 'lang': 'en', 'source': '<a href=\"http://twitter.com/download/iphone\" rel=\"nofollow\">Twitter for iPhone</a>', 'sourceUrl': 'http://twitter.com/download/iphone', 'sourceLabel': 'Twitter for iPhone', 'links': None, 'media': None, 'retweetedTweet': None, 'quotedTweet': None, 'inReplyToTweetId': 1641269521687216129, 'inReplyToUser': User(username='NotoriousVIC007', id=1369836557939703808, displayname='Veezy World Peace 🌎', rawDescription=None, renderedDescription=None, descriptionLinks=None, verified=None, created=None, followersCount=None, friendsCount=None, statusesCount=None, favouritesCount=None, listedCount=None, mediaCount=None, location=None, protected=None, link=None, profileImageUrl=None, profileBannerUrl=None, label=None), 'mentionedUsers': [User(username='NotoriousVIC007', id=1369836557939703808, displayname='Veezy World Peace 🌎', rawDescription=None, renderedDescription=None, descriptionLinks=None, verified=None, created=None, followersCount=None, friendsCount=None, statusesCount=None, favouritesCount=None, listedCount=None, mediaCount=None, location=None, protected=None, link=None, profileImageUrl=None, profileBannerUrl=None, label=None)], 'coordinates': None, 'place': None, 'hashtags': None, 'cashtags': None, 'card': None, 'viewCount': None, 'vibe': None}\n"
     ]
    }
   ],
   "source": [
    "for tweet in sntwitter.TwitterSearchScraper(query).get_items():\n",
    "    print(vars(tweet))\n",
    "    break"
   ]
  },
  {
   "cell_type": "code",
   "execution_count": 27,
   "id": "73e8e33c",
   "metadata": {},
   "outputs": [],
   "source": [
    "limit = 10000\n",
    "tweets = []"
   ]
  },
  {
   "cell_type": "code",
   "execution_count": 28,
   "id": "995967be",
   "metadata": {},
   "outputs": [
    {
     "name": "stderr",
     "output_type": "stream",
     "text": [
      "C:\\Users\\agniv\\AppData\\Local\\Temp\\ipykernel_21068\\1226378378.py:5: DeprecatedFeatureWarning: content is deprecated, use rawContent instead\n",
      "  tweets.append([tweet.date, tweet.user.username, tweet.content])\n"
     ]
    }
   ],
   "source": [
    "for tweet in sntwitter.TwitterSearchScraper(query).get_items():\n",
    "    if len(tweets) == limit:\n",
    "        break\n",
    "    else:\n",
    "        tweets.append([tweet.date, tweet.user.username, tweet.content])"
   ]
  },
  {
   "cell_type": "code",
   "execution_count": 29,
   "id": "8497db81",
   "metadata": {},
   "outputs": [],
   "source": [
    "df = pd.DataFrame(tweets, columns = ['Date','User','Tweet'])"
   ]
  },
  {
   "cell_type": "code",
   "execution_count": 30,
   "id": "5f79e600",
   "metadata": {},
   "outputs": [
    {
     "data": {
      "text/html": [
       "<div>\n",
       "<style scoped>\n",
       "    .dataframe tbody tr th:only-of-type {\n",
       "        vertical-align: middle;\n",
       "    }\n",
       "\n",
       "    .dataframe tbody tr th {\n",
       "        vertical-align: top;\n",
       "    }\n",
       "\n",
       "    .dataframe thead th {\n",
       "        text-align: right;\n",
       "    }\n",
       "</style>\n",
       "<table border=\"1\" class=\"dataframe\">\n",
       "  <thead>\n",
       "    <tr style=\"text-align: right;\">\n",
       "      <th></th>\n",
       "      <th>Date</th>\n",
       "      <th>User</th>\n",
       "      <th>Tweet</th>\n",
       "    </tr>\n",
       "  </thead>\n",
       "  <tbody>\n",
       "    <tr>\n",
       "      <th>0</th>\n",
       "      <td>2023-03-30 04:11:23+00:00</td>\n",
       "      <td>Mr_MooreOVO</td>\n",
       "      <td>@NotoriousVIC007 It’ll Be A Decent Feud But I’...</td>\n",
       "    </tr>\n",
       "    <tr>\n",
       "      <th>1</th>\n",
       "      <td>2023-03-30 04:10:05+00:00</td>\n",
       "      <td>omosapien_4life</td>\n",
       "      <td>@Shreyanshu_5 all I’m saying….if Adam Cole eve...</td>\n",
       "    </tr>\n",
       "    <tr>\n",
       "      <th>2</th>\n",
       "      <td>2023-03-30 04:09:17+00:00</td>\n",
       "      <td>smFISHMAN</td>\n",
       "      <td>Really great moment for Britt Baker and Adam C...</td>\n",
       "    </tr>\n",
       "    <tr>\n",
       "      <th>3</th>\n",
       "      <td>2023-03-30 04:08:21+00:00</td>\n",
       "      <td>arusso1471</td>\n",
       "      <td>@ThisIsNasty At least we got to see Brandon Cu...</td>\n",
       "    </tr>\n",
       "    <tr>\n",
       "      <th>4</th>\n",
       "      <td>2023-03-30 04:08:12+00:00</td>\n",
       "      <td>DanSext97235792</td>\n",
       "      <td>@AdamColePro @AdamColePro welcome back man!! S...</td>\n",
       "    </tr>\n",
       "    <tr>\n",
       "      <th>...</th>\n",
       "      <td>...</td>\n",
       "      <td>...</td>\n",
       "      <td>...</td>\n",
       "    </tr>\n",
       "    <tr>\n",
       "      <th>95</th>\n",
       "      <td>2023-03-30 03:14:53+00:00</td>\n",
       "      <td>KennyBuck66</td>\n",
       "      <td>@AEW @IAmJericho @GarciaWrestling @AdamColePro...</td>\n",
       "    </tr>\n",
       "    <tr>\n",
       "      <th>96</th>\n",
       "      <td>2023-03-30 03:14:47+00:00</td>\n",
       "      <td>NeroHardyBoy</td>\n",
       "      <td>@UsensitiveMarks @AEWonTV @AdamColePro @IAmJer...</td>\n",
       "    </tr>\n",
       "    <tr>\n",
       "      <th>97</th>\n",
       "      <td>2023-03-30 03:14:34+00:00</td>\n",
       "      <td>Grant_Cameron37</td>\n",
       "      <td>@AEWREALONE_ @WWFCounselor Adam Cole in his ja...</td>\n",
       "    </tr>\n",
       "    <tr>\n",
       "      <th>98</th>\n",
       "      <td>2023-03-30 03:14:29+00:00</td>\n",
       "      <td>Datsabucket31</td>\n",
       "      <td>@AEW @IAmJericho @GarciaWrestling @AdamColePro...</td>\n",
       "    </tr>\n",
       "    <tr>\n",
       "      <th>99</th>\n",
       "      <td>2023-03-30 03:13:39+00:00</td>\n",
       "      <td>akamaxpower</td>\n",
       "      <td>After watching all access I just hope Adam Col...</td>\n",
       "    </tr>\n",
       "  </tbody>\n",
       "</table>\n",
       "<p>100 rows × 3 columns</p>\n",
       "</div>"
      ],
      "text/plain": [
       "                        Date             User  \\\n",
       "0  2023-03-30 04:11:23+00:00      Mr_MooreOVO   \n",
       "1  2023-03-30 04:10:05+00:00  omosapien_4life   \n",
       "2  2023-03-30 04:09:17+00:00        smFISHMAN   \n",
       "3  2023-03-30 04:08:21+00:00       arusso1471   \n",
       "4  2023-03-30 04:08:12+00:00  DanSext97235792   \n",
       "..                       ...              ...   \n",
       "95 2023-03-30 03:14:53+00:00      KennyBuck66   \n",
       "96 2023-03-30 03:14:47+00:00     NeroHardyBoy   \n",
       "97 2023-03-30 03:14:34+00:00  Grant_Cameron37   \n",
       "98 2023-03-30 03:14:29+00:00    Datsabucket31   \n",
       "99 2023-03-30 03:13:39+00:00      akamaxpower   \n",
       "\n",
       "                                                Tweet  \n",
       "0   @NotoriousVIC007 It’ll Be A Decent Feud But I’...  \n",
       "1   @Shreyanshu_5 all I’m saying….if Adam Cole eve...  \n",
       "2   Really great moment for Britt Baker and Adam C...  \n",
       "3   @ThisIsNasty At least we got to see Brandon Cu...  \n",
       "4   @AdamColePro @AdamColePro welcome back man!! S...  \n",
       "..                                                ...  \n",
       "95  @AEW @IAmJericho @GarciaWrestling @AdamColePro...  \n",
       "96  @UsensitiveMarks @AEWonTV @AdamColePro @IAmJer...  \n",
       "97  @AEWREALONE_ @WWFCounselor Adam Cole in his ja...  \n",
       "98  @AEW @IAmJericho @GarciaWrestling @AdamColePro...  \n",
       "99  After watching all access I just hope Adam Col...  \n",
       "\n",
       "[100 rows x 3 columns]"
      ]
     },
     "execution_count": 30,
     "metadata": {},
     "output_type": "execute_result"
    }
   ],
   "source": [
    "df.head(100)"
   ]
  },
  {
   "cell_type": "code",
   "execution_count": 31,
   "id": "432b06f2",
   "metadata": {},
   "outputs": [],
   "source": [
    "df.to_csv('Adam_Cole_return.csv', index = False, encoding='utf-8')"
   ]
  },
  {
   "cell_type": "code",
   "execution_count": null,
   "id": "4841c4f0",
   "metadata": {},
   "outputs": [],
   "source": []
  }
 ],
 "metadata": {
  "kernelspec": {
   "display_name": "Python 3 (ipykernel)",
   "language": "python",
   "name": "python3"
  },
  "language_info": {
   "codemirror_mode": {
    "name": "ipython",
    "version": 3
   },
   "file_extension": ".py",
   "mimetype": "text/x-python",
   "name": "python",
   "nbconvert_exporter": "python",
   "pygments_lexer": "ipython3",
   "version": "3.9.13"
  }
 },
 "nbformat": 4,
 "nbformat_minor": 5
}
